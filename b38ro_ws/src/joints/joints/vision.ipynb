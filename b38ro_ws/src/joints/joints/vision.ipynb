{
 "cells": [
  {
   "cell_type": "code",
   "execution_count": 2,
   "metadata": {},
   "outputs": [],
   "source": [
    "import cv2 as cv\n",
    "import numpy as np"
   ]
  },
  {
   "cell_type": "code",
   "execution_count": 3,
   "metadata": {},
   "outputs": [],
   "source": [
    "cvImg = cv.imread(\"./grid.png\")\n",
    "grayImg = cv.cvtColor(cvImg, cv.COLOR_BGR2GRAY)  # convert to gray"
   ]
  },
  {
   "cell_type": "code",
   "execution_count": 4,
   "metadata": {},
   "outputs": [
    {
     "name": "stdout",
     "output_type": "stream",
     "text": [
      "None\n"
     ]
    },
    {
     "name": "stderr",
     "output_type": "stream",
     "text": [
      "qt.qpa.plugin: Could not find the Qt platform plugin \"wayland\" in \"/home/abban/.local/lib/python3.10/site-packages/cv2/qt/plugins\"\n"
     ]
    },
    {
     "data": {
      "text/plain": [
       "-1"
      ]
     },
     "execution_count": 4,
     "metadata": {},
     "output_type": "execute_result"
    },
    {
     "ename": "",
     "evalue": "",
     "output_type": "error",
     "traceback": [
      "\u001b[1;31mThe Kernel crashed while executing code in the current cell or a previous cell. \n",
      "\u001b[1;31mPlease review the code in the cell(s) to identify a possible cause of the failure. \n",
      "\u001b[1;31mClick <a href='https://aka.ms/vscodeJupyterKernelCrash'>here</a> for more info. \n",
      "\u001b[1;31mView Jupyter <a href='command:jupyter.viewOutput'>log</a> for further details."
     ]
    }
   ],
   "source": [
    "edges = cv.Canny(\n",
    "    grayImg, 50.0, 150.0, np.ndarray((3, 3)), 3\n",
    ")  # find and detect edges\n",
    "\n",
    "blurred = cv.blur(edges, (3, 3), 0)  # blur the image\n",
    "\n",
    "hough = cv.HoughCircles(blurred, cv.HOUGH_GRADIENT, 1.2, 1)\n",
    "if not (hough is None):\n",
    "    copy = cvImg.copy()\n",
    "    for circle in hough:\n",
    "        print(len(hough))\n",
    "        copy = cv.circle(\n",
    "            copy,\n",
    "            (int(circle[0][0]), int(circle[0][1])),\n",
    "            int(circle[0][2]),\n",
    "            (0, 0, 250),\n",
    "        )\n",
    "    cv.imshow(\"drawing\", cvImg)\n",
    "print(hough)\n",
    "cv.imshow(\"edges\", edges)  # show the image\n",
    "# cv.imshow(\"blurred\", hough)  # show the image\n",
    "cv.waitKey(3)"
   ]
  }
 ],
 "metadata": {
  "kernelspec": {
   "display_name": "Python 3",
   "language": "python",
   "name": "python3"
  },
  "language_info": {
   "codemirror_mode": {
    "name": "ipython",
    "version": 3
   },
   "file_extension": ".py",
   "mimetype": "text/x-python",
   "name": "python",
   "nbconvert_exporter": "python",
   "pygments_lexer": "ipython3",
   "version": "3.10.12"
  }
 },
 "nbformat": 4,
 "nbformat_minor": 2
}
